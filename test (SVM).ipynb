{
 "cells": [
  {
   "cell_type": "code",
   "execution_count": 123,
   "id": "51601dac",
   "metadata": {},
   "outputs": [],
   "source": [
    "import dlib\n",
    "import cv2\n",
    "import numpy as np\n",
    "import pickle\n",
    "import pandas as pd"
   ]
  },
  {
   "cell_type": "code",
   "execution_count": 124,
   "id": "96be51ee",
   "metadata": {},
   "outputs": [],
   "source": [
    "filename = 'mypickl.pkl'\n",
    "loaded_model = pickle.load(open(filename, 'rb'))"
   ]
  },
  {
   "cell_type": "code",
   "execution_count": 125,
   "id": "537f9457",
   "metadata": {},
   "outputs": [
    {
     "data": {
      "image/png": "[encoded data removed]",
      "text/plain": [
       "<Figure size 432x288 with 1 Axes>"
      ]
     },
     "metadata": {
      "needs_background": "light"
     },
     "output_type": "display_data"
    },
    {
     "name": "stdout",
     "output_type": "stream",
     "text": [
      "The Student Dont understand\n",
      "feels fear\n"
     ]
    }
   ],
   "source": [
    "t=cv2.imread('output/test/video1/104_1.jpg')\n",
    "t=cv2.cvtColor(t,cv2.COLOR_RGB2GRAY)\n",
    "t1=cv2.resize(t,(272,272),interpolation=cv2.INTER_AREA)\n",
    "a=loaded_model.predict(t1)\n",
    "\n",
    "\n",
    "import matplotlib.pyplot as plt\n",
    "studentTest=cv2.imread('output/test/video1/104_1.jpg')\n",
    "imgplot=plt.imshow(studentTest)\n",
    "plt.show()\n",
    "\n",
    "\n",
    "sadcount=0\n",
    "angrycount=0\n",
    "fearcount=0\n",
    "disgustcount=0\n",
    "naturecount=0\n",
    "happycount=0\n",
    "surprisecount=0\n",
    "\n",
    "for x in a:\n",
    "    \n",
    "    if(x=='sad'):\n",
    "        sadcount=4\n",
    "    if(x=='disgust'):\n",
    "        disgustcount=1\n",
    "    if(x=='netural'):\n",
    "        naturecount=6\n",
    "    if(x=='surprise'):\n",
    "        surprisecount=5\n",
    "    if(x=='fear'):\n",
    "        fearcount=2\n",
    "    if(x=='happy'):\n",
    "        happycount=3\n",
    "    if(x=='angry'):\n",
    "        angrycount=0\n",
    "\n",
    "test=np.array([sadcount,disgustcount,naturecount,surprisecount,fearcount,happycount,angrycount])\n",
    "#print(test)\n",
    "\n",
    "pred = test.argmax(axis=0) \n",
    "preds=int(np.mean(pred))\n",
    "\n",
    "#print(preds)\n",
    "\n",
    "if(preds==0 or preds==2 or preds==4):\n",
    "    print(\"The Student Dont understand\")\n",
    "else:\n",
    "    print(\"The Student is Okay\")\n",
    "\n",
    "\n",
    "if preds==0:\n",
    "\tprint('feels angry')\n",
    "elif preds==1:\n",
    "\tprint('feels disgust')\n",
    "elif preds==2:\n",
    "\tprint('feels fear')\n",
    "elif preds==3:\n",
    "\tprint('feels happy')\n",
    "elif preds==4:\n",
    "\tprint('feels sad')\n",
    "elif preds==5:\n",
    "    print('feels surprise')\n",
    "else:\n",
    "\tprint('feels netural')\n"
   ]
  },
  {
   "cell_type": "code",
   "execution_count": 126,
   "id": "1a1a2269",
   "metadata": {},
   "outputs": [],
   "source": [
    "s1=cv2.imread('output/test/video2/104_4.jpg')\n",
    "s1=cv2.cvtColor(s1,cv2.COLOR_RGB2GRAY)\n",
    "st1=cv2.resize(s1,(272,272),interpolation=cv2.INTER_AREA)\n",
    "a1=loaded_model.predict(st1)\n",
    "#result = int(np.mean(a))"
   ]
  },
  {
   "cell_type": "code",
   "execution_count": 127,
   "id": "7b456efc",
   "metadata": {},
   "outputs": [
    {
     "data": {
      "image/png": "[encoded data removed]",
      "text/plain": [
       "<Figure size 432x288 with 1 Axes>"
      ]
     },
     "metadata": {
      "needs_background": "light"
     },
     "output_type": "display_data"
    },
    {
     "name": "stdout",
     "output_type": "stream",
     "text": [
      "The Student is Okay\n",
      "feels happy\n"
     ]
    }
   ],
   "source": [
    "import matplotlib.pyplot as plt\n",
    "studentTest=cv2.imread('output/test/video2/104_4.jpg')\n",
    "imgplot=plt.imshow(studentTest)\n",
    "plt.show()\n",
    "\n",
    "sadcount1=0\n",
    "angrycount1=0\n",
    "fearcount1=0\n",
    "disgustcount1=0\n",
    "naturecount1=0\n",
    "happycount1=0\n",
    "surprisecount1=0\n",
    "\n",
    "for x in a1:\n",
    "    \n",
    "    if(x=='sad'):\n",
    "        sadcount1=4\n",
    "    if(x=='disgust'):\n",
    "        disgustcount1=1\n",
    "    if(x=='netural'):\n",
    "        naturecount1=6\n",
    "    if(x=='surprise'):\n",
    "        surprisecount1=5\n",
    "    if(x=='fear'):\n",
    "        fearcount1=2\n",
    "    if(x=='happy'):\n",
    "        happycount1=3\n",
    "    if(x=='angry'):\n",
    "        angrycount1=0\n",
    "\n",
    "test1=np.array([sadcount1,disgustcount1,naturecount1,surprisecount1,fearcount1,happycount1,angrycount1])\n",
    "#print(test1)\n",
    "\n",
    "pred1 = test1.argmax(axis=0) \n",
    "preds1=int(np.mean(pred1))\n",
    "\n",
    "#print(preds1)\n",
    "\n",
    "if(preds1==0 or preds1==2 or preds1==4):\n",
    "    print(\"The Student Dont understand\")\n",
    "else:\n",
    "    print(\"The Student is Okay\")\n",
    "\n",
    "\n",
    "if preds1==0:\n",
    "\tprint('feels angry')\n",
    "elif preds1==1:\n",
    "\tprint('feels disgust')\n",
    "elif preds1==2:\n",
    "\tprint('feels fear')\n",
    "elif preds1==3:\n",
    "\tprint('feels happy')\n",
    "elif preds1==4:\n",
    "\tprint('feels sad')\n",
    "elif preds1==5:\n",
    "    print('feels surprise')\n",
    "else:\n",
    "\tprint('feels netural')"
   ]
  },
  {
   "cell_type": "code",
   "execution_count": 128,
   "id": "65a7ef6f",
   "metadata": {},
   "outputs": [
    {
     "data": {
      "image/png": "[encoded data removed]",
      "text/plain": [
       "<Figure size 432x288 with 1 Axes>"
      ]
     },
     "metadata": {
      "needs_background": "light"
     },
     "output_type": "display_data"
    },
    {
     "name": "stdout",
     "output_type": "stream",
     "text": [
      "The Student is Okay\n",
      "feels happy\n"
     ]
    }
   ],
   "source": [
    "s2=cv2.imread('output/test/video2/104_4.jpg')\n",
    "s2=cv2.cvtColor(s2,cv2.COLOR_RGB2GRAY)\n",
    "st2=cv2.resize(s2,(272,272),interpolation=cv2.INTER_AREA)\n",
    "a2=loaded_model.predict(st2)\n",
    "\n",
    "sadcount2=0\n",
    "angrycount2=0\n",
    "fearcount2=0\n",
    "disgustcount2=0\n",
    "naturecount2=0\n",
    "happycount2=0\n",
    "surprisecount2=0\n",
    "\n",
    "for x in a2:\n",
    "    \n",
    "    if(x=='sad'):\n",
    "        sadcount2=4\n",
    "    if(x=='disgust'):\n",
    "        disgustcount2=1\n",
    "    if(x=='netural'):\n",
    "        naturecount2=6\n",
    "    if(x=='surprise'):\n",
    "        surprisecount2=5\n",
    "    if(x=='fear'):\n",
    "        fearcount2=2\n",
    "    if(x=='happy'):\n",
    "        happycount2=3\n",
    "    if(x=='angry'):\n",
    "        angrycount2=0\n",
    "\n",
    "test2=np.array([sadcount2,disgustcount2,naturecount2,surprisecount2,fearcount2,happycount2,angrycount2])\n",
    "#print(test1)\n",
    "\n",
    "pred2 = test2.argmax(axis=0) \n",
    "preds2=int(np.mean(pred2))\n",
    "\n",
    "#print(preds1)\n",
    "\n",
    "import matplotlib.pyplot as plt\n",
    "studentTest=cv2.imread('output/test/video2/104_5.jpg')\n",
    "imgplot=plt.imshow(studentTest)\n",
    "plt.show()\n",
    "\n",
    "if(preds2==0 or preds2==2 or preds2==4):\n",
    "    print(\"The Student Dont understand\")\n",
    "else:\n",
    "    print(\"The Student is Okay\")\n",
    "\n",
    "\n",
    "if preds2==0:\n",
    "\tprint('feels angry')\n",
    "elif preds2==1:\n",
    "\tprint('feels disgust')\n",
    "elif preds2==2:\n",
    "\tprint('feels fear')\n",
    "elif preds2==3:\n",
    "\tprint('feels happy')\n",
    "elif preds2==4:\n",
    "\tprint('feels sad')\n",
    "elif preds2==5:\n",
    "    print('feels surprise')\n",
    "else:\n",
    "\tprint('feels netural')"
   ]
  },
  {
   "cell_type": "code",
   "execution_count": null,
   "id": "da1e7b92",
   "metadata": {},
   "outputs": [],
   "source": []
  },
  {
   "cell_type": "code",
   "execution_count": null,
   "id": "93a8df5a",
   "metadata": {},
   "outputs": [],
   "source": []
  }
 ],
 "metadata": {
  "kernelspec": {
   "display_name": "Python 3",
   "language": "python",
   "name": "python3"
  },
  "language_info": {
   "codemirror_mode": {
    "name": "ipython",
    "version": 3
   },
   "file_extension": ".py",
   "mimetype": "text/x-python",
   "name": "python",
   "nbconvert_exporter": "python",
   "pygments_lexer": "ipython3",
   "version": "3.7.10"
  }
 },
 "nbformat": 4,
 "nbformat_minor": 5
}
