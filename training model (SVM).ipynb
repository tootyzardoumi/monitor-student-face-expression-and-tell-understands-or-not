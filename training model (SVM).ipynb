{
 "cells": [
  {
   "cell_type": "code",
   "execution_count": 1,
   "id": "6e058547",
   "metadata": {},
   "outputs": [],
   "source": [
    "import os\n",
    "import dlib\n",
    "import cv2\n",
    "import numpy as np\n",
    "import math\n",
    "from sklearn.svm import SVC\n",
    "import pickle\n",
    "from sklearn.metrics import classification_report, confusion_matrix\n",
    "import pandas as pd"
   ]
  },
  {
   "cell_type": "code",
   "execution_count": 2,
   "id": "71b7f995",
   "metadata": {},
   "outputs": [],
   "source": [
    "\n",
    "emotions = [\"angry\", \"disgust\", \"happy\", \"sad\", \"surprise\",\"fearful\",\"netural\"].astype\n",
    "detector = dlib.get_frontal_face_detector()\n",
    "model = dlib.shape_predictor(\"shape_predictor_68_face_landmarks.dat\")\n",
    "clahe = cv2.createCLAHE(clipLimit=2.0, tileGridSize=(8, 8))"
   ]
  },
  {
   "cell_type": "code",
   "execution_count": 3,
   "id": "6cfe68a0",
   "metadata": {},
   "outputs": [],
   "source": [
    "clf = SVC(C=0.01, kernel='linear', decision_function_shape='ovo', probability=True)"
   ]
  },
  {
   "cell_type": "code",
   "execution_count": 4,
   "id": "8cc5f980",
   "metadata": {},
   "outputs": [],
   "source": [
    "\n",
    "def get_landmarks(image):\n",
    "    detections = detector(image, 1)\n",
    "    # For all detected face instances individually\n",
    "    for k, d in enumerate(detections):\n",
    "        # Get facial landmarks with prediction model\n",
    "        shape = model(image, d)\n",
    "        xpoint = []\n",
    "        ypoint = []\n",
    "        for i in range(0, 68):\n",
    "            xpoint.append(float(shape.part(i).x))\n",
    "            ypoint.append(float(shape.part(i).y))\n",
    "\n",
    "        # Center points of both axis\n",
    "        xcenter = np.mean(xpoint)\n",
    "        ycenter = np.mean(ypoint)\n",
    "        # Calculate distance between particular points and center point\n",
    "        xdistcent = [(x-xcenter) for x in xpoint]\n",
    "        ydistcent = [(y-ycenter) for y in ypoint]\n",
    "\n",
    "        # Prevent divided by 0 value\n",
    "        if xpoint[11] == xpoint[14]:\n",
    "            angle_nose = 0\n",
    "        else:\n",
    "            # Point 14 is the tip of the nose, point 11 is the top of the nose brigde\n",
    "            angle_nose = int(math.atan((ypoint[11]-ypoint[14])/(xpoint[11]-xpoint[14]))*180/math.pi)\n",
    "\n",
    "        # Get offset by finding how the nose brigde should be rotated to become perpendicular to the horizontal plane\n",
    "        if angle_nose < 0:\n",
    "            angle_nose += 90\n",
    "        else:\n",
    "            angle_nose -= 90\n",
    "\n",
    "        landmarks = []\n",
    "        # zip iterator of the tuple(similar to list) \n",
    "        for cx, cy, x, y in zip(xdistcent, ydistcent, xpoint, ypoint):\n",
    "            # Add the coordinates relative to the centre of gravity\n",
    "            landmarks.append(cx)\n",
    "            landmarks.append(cy)\n",
    "\n",
    "            # Get the euclidean distance between each point and the centre point (the vector length)\n",
    "            meanar = np.asarray((ycenter,xcenter))\n",
    "            centpar = np.asarray((y,x))\n",
    "            dist = np.linalg.norm(centpar-meanar)\n",
    "\n",
    "            # Get the angle the vector describes relative to the image, corrected for the offset that the nosebrigde\n",
    "            # has when the face is not perfectly horizontal\n",
    "            if x == xcenter:\n",
    "                angle_relative = 0\n",
    "            else:\n",
    "                angle_relative = (math.atan(float(y-ycenter)/(x-xcenter))*180/math.pi) - angle_nose\n",
    "            landmarks.append(dist)\n",
    "            landmarks.append(angle_relative)\n",
    "\n",
    "    if len(detections) < 1:\n",
    "        # In case no case selected, print \"error\" values\n",
    "        landmarks = \"error\"\n",
    "    return landmarks\n"
   ]
  },
  {
   "cell_type": "code",
   "execution_count": 5,
   "id": "149cc174",
   "metadata": {},
   "outputs": [],
   "source": [
    "\n",
    "def make_sets():\n",
    "    training_data = []\n",
    "    training_label = []\n",
    "    testing_data = []\n",
    "    testing_label = []\n",
    "\n",
    "    data = pd.read_csv('fer2013.csv')\n",
    "\n",
    "    pixels = []\n",
    "\n",
    "    for pixel in data['pixels']:\n",
    "       \n",
    "        pixels.append(np.fromstring(pixel, dtype=np.uint8, sep=\" \").reshape((48, 48)))\n",
    "    \n",
    "    for index, value in enumerate(pixels):\n",
    "        clahe_img = clahe.apply(value)\n",
    "        landmarks_vec = get_landmarks(clahe_img)\n",
    "        \n",
    "        if landmarks_vec == \"error\":\n",
    "            pass\n",
    "        else:\n",
    "            if data['Usage'][index] == \"Training\":\n",
    "                training_data.append(landmarks_vec)\n",
    "                training_label.append(emotions[data['emotion'][index]])\n",
    "            else:\n",
    "                testing_data.append(landmarks_vec)\n",
    "                testing_label.append(emotions[data['emotion'][index]])\n",
    "    return training_data, training_label, testing_data, testing_label\n",
    "\n"
   ]
  },
  {
   "cell_type": "code",
   "execution_count": 6,
   "id": "52e30484",
   "metadata": {},
   "outputs": [],
   "source": [
    "\n",
    "\n",
    "def create_model():\n",
    "    print(\"Marking set\")\n",
    "    X_train, y_train, X_test, y_test = make_sets()\n",
    "\n",
    "    # Turn the training set into a numpy array for the classifier\n",
    "    np_X_train = np.array(X_train)\n",
    "    np_y_train = np.array(y_train)\n",
    "    # Train SVM\n",
    "    print(\"Training SVM Classifier\")\n",
    "    clf.fit(np_X_train, np_y_train)\n",
    "\n",
    "    np_X_test = np.array(X_test)\n",
    "    np_y_test = np.array(y_test)\n",
    "    # Use score() function to get accuracy\n",
    "    print(\"Getting accuracy score --\")\n",
    "    pred_accuracy = clf.score(np_X_test, np_y_test)\n",
    "    test_pred = clf.predict(np_X_test)\n",
    "\n",
    "    print(\"Test Accuracy: \", pred_accuracy)\n",
    "\n",
    "    print(confusion_matrix(np_y_test, test_pred))\n",
    "    print(classification_report(np_y_test, test_pred))\n",
    "\n",
    "    return pred_accuracy\n"
   ]
  },
  {
   "cell_type": "code",
   "execution_count": 7,
   "id": "1e4c95ae",
   "metadata": {},
   "outputs": [],
   "source": [
    "#in order to create model\n",
    "o=open(\"mypickl.pkl\",\"wb\")"
   ]
  },
  {
   "cell_type": "code",
   "execution_count": 8,
   "id": "fae6bb22",
   "metadata": {},
   "outputs": [
    {
     "name": "stdout",
     "output_type": "stream",
     "text": [
      "Marking set\n",
      "Training SVM Classifier\n",
      "Getting accuracy score --\n",
      "Test Accuracy:  0.5065901360544217\n",
      "[[ 216    0   34   39  141  112   47]\n",
      " [  30    0    5    6   14   14   13]\n",
      " [  33    0  331   31   84   66    5]\n",
      " [  96    0   87   75  175   96   77]\n",
      " [  87    0   45   56  529   99   91]\n",
      " [  42    0   41   27  110 1113   23]\n",
      " [  77    0   26   37  251  104  119]]\n",
      "              precision    recall  f1-score   support\n",
      "\n",
      "       angry       0.37      0.37      0.37       589\n",
      "     disgust       0.00      0.00      0.00        82\n",
      "     fearful       0.58      0.60      0.59       550\n",
      "       happy       0.28      0.12      0.17       606\n",
      "     netural       0.41      0.58      0.48       907\n",
      "         sad       0.69      0.82      0.75      1356\n",
      "    surprise       0.32      0.19      0.24       614\n",
      "\n",
      "    accuracy                           0.51      4704\n",
      "   macro avg       0.38      0.38      0.37      4704\n",
      "weighted avg       0.47      0.51      0.48      4704\n",
      "\n"
     ]
    },
    {
     "name": "stderr",
     "output_type": "stream",
     "text": [
      "C:\\Users\\Lenovo\\anaconda3\\envs\\env_Sid\\lib\\site-packages\\sklearn\\metrics\\_classification.py:1272: UndefinedMetricWarning: Precision and F-score are ill-defined and being set to 0.0 in labels with no predicted samples. Use `zero_division` parameter to control this behavior.\n",
      "  _warn_prf(average, modifier, msg_start, len(result))\n"
     ]
    },
    {
     "name": "stdout",
     "output_type": "stream",
     "text": [
      "Accuracy =  50.65901360544217 percent\n"
     ]
    }
   ],
   "source": [
    "\n",
    "if __name__ == '__main__':\n",
    "    accuracy = create_model()\n",
    "    print('Accuracy = ', accuracy * 100, 'percent')\n",
    "    \n",
    "    model_file = os.path.join('mypickl.pkl')\n",
    "    try:\n",
    "        os.remove(model_file)\n",
    "    except OSError:\n",
    "        pass\n",
    "    output = open(model_file, 'wb')\n",
    "    pickle.dump(clf, output)\n",
    "    output.close()"
   ]
  },
  {
   "cell_type": "code",
   "execution_count": null,
   "id": "b4125f8e",
   "metadata": {},
   "outputs": [],
   "source": []
  }
 ],
 "metadata": {
  "kernelspec": {
   "display_name": "Python 3",
   "language": "python",
   "name": "python3"
  },
  "language_info": {
   "codemirror_mode": {
    "name": "ipython",
    "version": 3
   },
   "file_extension": ".py",
   "mimetype": "text/x-python",
   "name": "python",
   "nbconvert_exporter": "python",
   "pygments_lexer": "ipython3",
   "version": "3.7.10"
  }
 },
 "nbformat": 4,
 "nbformat_minor": 5
}
